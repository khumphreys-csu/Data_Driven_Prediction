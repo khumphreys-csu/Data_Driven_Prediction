{
 "cells": [
  {
   "cell_type": "code",
   "execution_count": 1,
   "metadata": {},
   "outputs": [],
   "source": [
    "import numpy as np\n",
    "import matplotlib.pyplot as plt\n",
    "import xarray as xr\n",
    "import glob\n",
    "import pandas as pd\n",
    "import datetime as dt\n",
    "\n",
    "mask_directory = '/Users/kathum/Research/COPEX/sink_region_files/masks'\n",
    "WAM_files = '/Volumes/LaCie_10TB_Keys_KH/era5/output/backtrack/co_altclimate_nfr_2000_2023/'\n",
    "sink_region_name = 'nfr'"
   ]
  },
  {
   "cell_type": "markdown",
   "metadata": {},
   "source": [
    "## Open Labels and Inputs"
   ]
  },
  {
   "cell_type": "code",
   "execution_count": 4,
   "metadata": {},
   "outputs": [
    {
     "name": "stdout",
     "output_type": "stream",
     "text": [
      "--- FEATURES ---\n",
      "                  date  Other Water_e_track  Pacific Ocean_e_track  \\\n",
      "0  2000-01-01 00:00:00          8042.574794           4.349085e+06   \n",
      "1  2000-01-02 00:00:00         10999.343513           4.396600e+06   \n",
      "2  2000-01-03 00:00:00         14548.744700           4.230650e+06   \n",
      "3  2000-01-04 00:00:00         21122.603855           4.775540e+06   \n",
      "4  2000-01-05 00:00:00         25003.287201           4.133949e+06   \n",
      "\n",
      "   Gulf of California_e_track  Atlantic Ocean_e_track  Gulf of Mexico_e_track  \\\n",
      "0                 6382.884692            8.545996e+05             1934.162124   \n",
      "1                21491.728424            1.084664e+06             2495.450753   \n",
      "2                53290.881233            1.214330e+06            18742.466079   \n",
      "3                88394.011951            1.426605e+06           272076.836754   \n",
      "4                45780.902789            1.947277e+06           164996.238514   \n",
      "\n",
      "   Other Land_e_track  Western US_e_track  Southern US_e_track  \\\n",
      "0        58054.989830        1.980851e+06           170.949834   \n",
      "1        85962.749988        1.259058e+06           486.027975   \n",
      "2       122390.023278        3.318042e+05          4643.959434   \n",
      "3       103437.934437        6.708078e+04          6334.133637   \n",
      "4       159587.575995        5.811069e+04          3089.380970   \n",
      "\n",
      "   Midwestern US_e_track  Colorado_e_track  Eastern Plains_e_track  \\\n",
      "0            3696.024622      4.419510e+05            28318.349492   \n",
      "1            1022.313701      1.409131e+06            57711.698968   \n",
      "2            5226.424684      1.218801e+05            69238.966234   \n",
      "3             607.223091      1.783457e+03                3.269747   \n",
      "4              90.030628      2.643846e+04              112.386119   \n",
      "\n",
      "   Front Range_e_track  Pikes Peak_e_track  Arkansas Basin_e_track  \\\n",
      "0        170407.811859         9301.073273              431.299079   \n",
      "1        547892.229126       106042.310654            24271.442166   \n",
      "2        374064.360107         6068.854589              560.382250   \n",
      "3           129.981162            0.196005                1.500222   \n",
      "4          6105.731972           45.466686                7.354043   \n",
      "\n",
      "   High Mountain Valley_e_track  \n",
      "0                  64577.118271  \n",
      "1                 290040.538574  \n",
      "2                   9059.644638  \n",
      "3                     11.096129  \n",
      "4                   1679.283906  \n",
      "--- LABELS ---\n",
      "         Date  nfr_precip_m3\n",
      "0  2000-01-01   1.293943e+06\n",
      "1  2000-01-02   2.627541e+07\n",
      "2  2000-01-03   6.351147e+07\n",
      "3  2000-01-04   6.341063e+04\n",
      "4  2000-01-05   2.364061e+06\n"
     ]
    }
   ],
   "source": [
    "# MODIFY----------\n",
    "label_path = '/Users/kathum/Classes/fall_2024/Data_driven Analysis/Data_Driven_Prediction/nfr_daily_precip.csv'\n",
    "input_path = '/Users/kathum/Classes/fall_2024/Data_driven Analysis/Data_Driven_Prediction/nfr_daily_e_track.csv'\n",
    "#-----------------\n",
    "\n",
    "X = pd.read_csv(input_path).iloc[:,1:] #remove first column in csv\n",
    "y = pd.read_csv(label_path).iloc[:,1:] #remove first column in csv\n",
    "\n",
    "print('--- FEATURES ---')\n",
    "print(X.head())\n",
    "#feature_names = ['bill_length_mm', 'bill_depth_mm', 'flipper_length_mm', 'body_mass_g']\n",
    "print('--- LABELS ---')\n",
    "print(y.head())\n",
    "#classes = ['Adelie', 'Chinstrap', 'Gentoo'] # These are the penguin species\n"
   ]
  },
  {
   "cell_type": "code",
   "execution_count": null,
   "metadata": {},
   "outputs": [],
   "source": []
  }
 ],
 "metadata": {
  "kernelspec": {
   "display_name": "wamenv",
   "language": "python",
   "name": "python3"
  },
  "language_info": {
   "codemirror_mode": {
    "name": "ipython",
    "version": 3
   },
   "file_extension": ".py",
   "mimetype": "text/x-python",
   "name": "python",
   "nbconvert_exporter": "python",
   "pygments_lexer": "ipython3",
   "version": "3.9.16"
  }
 },
 "nbformat": 4,
 "nbformat_minor": 2
}
