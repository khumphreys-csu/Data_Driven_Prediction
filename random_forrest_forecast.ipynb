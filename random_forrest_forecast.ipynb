{
 "cells": [
  {
   "cell_type": "code",
   "execution_count": 37,
   "metadata": {},
   "outputs": [],
   "source": [
    "import numpy as np\n",
    "import matplotlib.pyplot as plt\n",
    "import xarray as xr\n",
    "import glob\n",
    "import pandas as pd\n",
    "import datetime as dt\n",
    "import pydot\n",
    "import sklearn\n",
    "from sklearn.model_selection import train_test_split\n",
    "from sklearn import metrics\n",
    "#from sklearn.ensemble import RandomForestClassifier\n",
    "from sklearn.ensemble import RandomForestRegressor\n",
    "from sklearn.inspection import permutation_importance\n",
    "from sklearn.tree import export_graphviz\n",
    "import sys\n",
    "\n",
    "mask_directory = '/Users/kathum/Research/COPEX/sink_region_files/masks'\n",
    "WAM_files = '/Volumes/LaCie_10TB_Keys_KH/era5/output/backtrack/co_altclimate_nfr_2000_2023/'\n",
    "sink_region_name = 'nfr'"
   ]
  },
  {
   "cell_type": "markdown",
   "metadata": {},
   "source": [
    "## Open Labels and Inputs"
   ]
  },
  {
   "cell_type": "code",
   "execution_count": 4,
   "metadata": {},
   "outputs": [
    {
     "name": "stdout",
     "output_type": "stream",
     "text": [
      "--- FEATURES ---\n",
      "                  date  Other Water_e_track  Pacific Ocean_e_track  \\\n",
      "0  2000-01-01 00:00:00          8042.574794           4.349085e+06   \n",
      "1  2000-01-02 00:00:00         10999.343513           4.396600e+06   \n",
      "2  2000-01-03 00:00:00         14548.744700           4.230650e+06   \n",
      "3  2000-01-04 00:00:00         21122.603855           4.775540e+06   \n",
      "4  2000-01-05 00:00:00         25003.287201           4.133949e+06   \n",
      "\n",
      "   Gulf of California_e_track  Atlantic Ocean_e_track  Gulf of Mexico_e_track  \\\n",
      "0                 6382.884692            8.545996e+05             1934.162124   \n",
      "1                21491.728424            1.084664e+06             2495.450753   \n",
      "2                53290.881233            1.214330e+06            18742.466079   \n",
      "3                88394.011951            1.426605e+06           272076.836754   \n",
      "4                45780.902789            1.947277e+06           164996.238514   \n",
      "\n",
      "   Other Land_e_track  Western US_e_track  Southern US_e_track  \\\n",
      "0        58054.989830        1.980851e+06           170.949834   \n",
      "1        85962.749988        1.259058e+06           486.027975   \n",
      "2       122390.023278        3.318042e+05          4643.959434   \n",
      "3       103437.934437        6.708078e+04          6334.133637   \n",
      "4       159587.575995        5.811069e+04          3089.380970   \n",
      "\n",
      "   Midwestern US_e_track  Colorado_e_track  Eastern Plains_e_track  \\\n",
      "0            3696.024622      4.419510e+05            28318.349492   \n",
      "1            1022.313701      1.409131e+06            57711.698968   \n",
      "2            5226.424684      1.218801e+05            69238.966234   \n",
      "3             607.223091      1.783457e+03                3.269747   \n",
      "4              90.030628      2.643846e+04              112.386119   \n",
      "\n",
      "   Front Range_e_track  Pikes Peak_e_track  Arkansas Basin_e_track  \\\n",
      "0        170407.811859         9301.073273              431.299079   \n",
      "1        547892.229126       106042.310654            24271.442166   \n",
      "2        374064.360107         6068.854589              560.382250   \n",
      "3           129.981162            0.196005                1.500222   \n",
      "4          6105.731972           45.466686                7.354043   \n",
      "\n",
      "   High Mountain Valley_e_track  \n",
      "0                  64577.118271  \n",
      "1                 290040.538574  \n",
      "2                   9059.644638  \n",
      "3                     11.096129  \n",
      "4                   1679.283906  \n",
      "--- LABELS ---\n",
      "         Date  nfr_precip_m3\n",
      "0  2000-01-01   1.293943e+06\n",
      "1  2000-01-02   2.627541e+07\n",
      "2  2000-01-03   6.351147e+07\n",
      "3  2000-01-04   6.341063e+04\n",
      "4  2000-01-05   2.364061e+06\n"
     ]
    }
   ],
   "source": [
    "# MODIFY----------\n",
    "label_path = '/Users/kathum/Classes/fall_2024/Data_driven Analysis/Data_Driven_Prediction/nfr_daily_precip.csv'\n",
    "input_path = '/Users/kathum/Classes/fall_2024/Data_driven Analysis/Data_Driven_Prediction/nfr_daily_e_track.csv'\n",
    "#-----------------\n",
    "\n",
    "X = pd.read_csv(input_path).iloc[:,1:] #remove first column in csv\n",
    "y = pd.read_csv(label_path).iloc[:,1:] #remove first column in csv\n",
    "\n",
    "print('--- FEATURES ---')\n",
    "print(X.head())\n",
    "#feature_names = ['bill_length_mm', 'bill_depth_mm', 'flipper_length_mm', 'body_mass_g']\n",
    "print('--- LABELS ---')\n",
    "print(y.head())\n",
    "#classes = ['Adelie', 'Chinstrap', 'Gentoo'] # These are the penguin species\n"
   ]
  },
  {
   "cell_type": "code",
   "execution_count": 9,
   "metadata": {},
   "outputs": [
    {
     "data": {
      "text/html": [
       "<div>\n",
       "<style scoped>\n",
       "    .dataframe tbody tr th:only-of-type {\n",
       "        vertical-align: middle;\n",
       "    }\n",
       "\n",
       "    .dataframe tbody tr th {\n",
       "        vertical-align: top;\n",
       "    }\n",
       "\n",
       "    .dataframe thead th {\n",
       "        text-align: right;\n",
       "    }\n",
       "</style>\n",
       "<table border=\"1\" class=\"dataframe\">\n",
       "  <thead>\n",
       "    <tr style=\"text-align: right;\">\n",
       "      <th></th>\n",
       "      <th>Date</th>\n",
       "      <th>nfr_precip_m3</th>\n",
       "    </tr>\n",
       "  </thead>\n",
       "  <tbody>\n",
       "    <tr>\n",
       "      <th>0</th>\n",
       "      <td>2000-01-01</td>\n",
       "      <td>1.293943e+06</td>\n",
       "    </tr>\n",
       "    <tr>\n",
       "      <th>1</th>\n",
       "      <td>2000-01-02</td>\n",
       "      <td>2.627541e+07</td>\n",
       "    </tr>\n",
       "    <tr>\n",
       "      <th>2</th>\n",
       "      <td>2000-01-03</td>\n",
       "      <td>6.351147e+07</td>\n",
       "    </tr>\n",
       "    <tr>\n",
       "      <th>3</th>\n",
       "      <td>2000-01-04</td>\n",
       "      <td>6.341063e+04</td>\n",
       "    </tr>\n",
       "    <tr>\n",
       "      <th>4</th>\n",
       "      <td>2000-01-05</td>\n",
       "      <td>2.364061e+06</td>\n",
       "    </tr>\n",
       "    <tr>\n",
       "      <th>...</th>\n",
       "      <td>...</td>\n",
       "      <td>...</td>\n",
       "    </tr>\n",
       "    <tr>\n",
       "      <th>8669</th>\n",
       "      <td>2023-09-26</td>\n",
       "      <td>1.372313e+05</td>\n",
       "    </tr>\n",
       "    <tr>\n",
       "      <th>8670</th>\n",
       "      <td>2023-09-27</td>\n",
       "      <td>0.000000e+00</td>\n",
       "    </tr>\n",
       "    <tr>\n",
       "      <th>8671</th>\n",
       "      <td>2023-09-28</td>\n",
       "      <td>7.055699e+05</td>\n",
       "    </tr>\n",
       "    <tr>\n",
       "      <th>8672</th>\n",
       "      <td>2023-09-29</td>\n",
       "      <td>2.347928e+05</td>\n",
       "    </tr>\n",
       "    <tr>\n",
       "      <th>8673</th>\n",
       "      <td>2023-09-30</td>\n",
       "      <td>9.213232e+05</td>\n",
       "    </tr>\n",
       "  </tbody>\n",
       "</table>\n",
       "<p>8674 rows × 2 columns</p>\n",
       "</div>"
      ],
      "text/plain": [
       "            Date  nfr_precip_m3\n",
       "0     2000-01-01   1.293943e+06\n",
       "1     2000-01-02   2.627541e+07\n",
       "2     2000-01-03   6.351147e+07\n",
       "3     2000-01-04   6.341063e+04\n",
       "4     2000-01-05   2.364061e+06\n",
       "...          ...            ...\n",
       "8669  2023-09-26   1.372313e+05\n",
       "8670  2023-09-27   0.000000e+00\n",
       "8671  2023-09-28   7.055699e+05\n",
       "8672  2023-09-29   2.347928e+05\n",
       "8673  2023-09-30   9.213232e+05\n",
       "\n",
       "[8674 rows x 2 columns]"
      ]
     },
     "execution_count": 9,
     "metadata": {},
     "output_type": "execute_result"
    }
   ],
   "source": [
    "y"
   ]
  },
  {
   "cell_type": "code",
   "execution_count": 30,
   "metadata": {},
   "outputs": [
    {
     "name": "stdout",
     "output_type": "stream",
     "text": [
      "--- TRAINING ---\n",
      "   Other Water_e_track  Pacific Ocean_e_track  Gulf of California_e_track  \\\n",
      "0          8042.574794           4.349085e+06                 6382.884692   \n",
      "1         10999.343513           4.396600e+06                21491.728424   \n",
      "2         14548.744700           4.230650e+06                53290.881233   \n",
      "3         21122.603855           4.775540e+06                88394.011951   \n",
      "4         25003.287201           4.133949e+06                45780.902789   \n",
      "\n",
      "   Atlantic Ocean_e_track  Gulf of Mexico_e_track  Other Land_e_track  \\\n",
      "0            8.545996e+05             1934.162124        58054.989830   \n",
      "1            1.084664e+06             2495.450753        85962.749988   \n",
      "2            1.214330e+06            18742.466079       122390.023278   \n",
      "3            1.426605e+06           272076.836754       103437.934437   \n",
      "4            1.947277e+06           164996.238514       159587.575995   \n",
      "\n",
      "   Western US_e_track  Southern US_e_track  Midwestern US_e_track  \\\n",
      "0        1.980851e+06           170.949834            3696.024622   \n",
      "1        1.259058e+06           486.027975            1022.313701   \n",
      "2        3.318042e+05          4643.959434            5226.424684   \n",
      "3        6.708078e+04          6334.133637             607.223091   \n",
      "4        5.811069e+04          3089.380970              90.030628   \n",
      "\n",
      "   Colorado_e_track  Eastern Plains_e_track  Front Range_e_track  \\\n",
      "0      4.419510e+05            28318.349492        170407.811859   \n",
      "1      1.409131e+06            57711.698968        547892.229126   \n",
      "2      1.218801e+05            69238.966234        374064.360107   \n",
      "3      1.783457e+03                3.269747           129.981162   \n",
      "4      2.643846e+04              112.386119          6105.731972   \n",
      "\n",
      "   Pikes Peak_e_track  Arkansas Basin_e_track  High Mountain Valley_e_track  \n",
      "0         9301.073273              431.299079                  64577.118271  \n",
      "1       106042.310654            24271.442166                 290040.538574  \n",
      "2         6068.854589              560.382250                   9059.644638  \n",
      "3            0.196005                1.500222                     11.096129  \n",
      "4           45.466686                7.354043                   1679.283906      nfr_precip_m3\n",
      "1   2.627541e+07\n",
      "2   6.351147e+07\n",
      "3   6.341063e+04\n",
      "4   2.364061e+06\n",
      "5   2.742422e+05\n",
      "--- VALIDATION ---\n",
      "      Other Water_e_track  Pacific Ocean_e_track  Gulf of California_e_track  \\\n",
      "7671          7183.276392           7.311147e+06                  379.367741   \n",
      "7672          7440.496596           5.209987e+06                  603.410034   \n",
      "7673          7355.275486           9.767669e+06                 1078.685577   \n",
      "7674          7196.614456           1.476650e+07                 1015.532232   \n",
      "7675          7673.073123           1.239162e+07                  791.494508   \n",
      "\n",
      "      Atlantic Ocean_e_track  Gulf of Mexico_e_track  Other Land_e_track  \\\n",
      "7671            78493.540734             1019.175936        22413.969694   \n",
      "7672            89808.697956             2033.192603        23526.146594   \n",
      "7673            88782.879139             3550.983093        22667.444100   \n",
      "7674            77556.763100             3025.960747        22817.671224   \n",
      "7675            72392.406655             2586.107351        26358.396662   \n",
      "\n",
      "      Western US_e_track  Southern US_e_track  Midwestern US_e_track  \\\n",
      "7671         9248.442828           225.868479              31.821603   \n",
      "7672        15861.080960           170.183975              22.748376   \n",
      "7673        57813.360354           335.050859              53.100416   \n",
      "7674       218403.534817          2624.619138            1173.829699   \n",
      "7675       985230.115119          4647.544732            4646.770580   \n",
      "\n",
      "      Colorado_e_track  Eastern Plains_e_track  Front Range_e_track  \\\n",
      "7671       5176.619290               28.316997          1427.678651   \n",
      "7672        975.843194                0.502184            52.334333   \n",
      "7673       5075.534191                4.788927          1309.072199   \n",
      "7674       2353.417324               31.388828          1058.555195   \n",
      "7675      27097.265097              766.334436         42828.586746   \n",
      "\n",
      "      Pikes Peak_e_track  Arkansas Basin_e_track  High Mountain Valley_e_track  \n",
      "7671          105.416062                0.757746                    458.903058  \n",
      "7672            2.704650                4.334962                     12.916098  \n",
      "7673            5.380230               16.927126                     52.703354  \n",
      "7674           28.913104               81.121427                     65.566945  \n",
      "7675           52.074059              170.525624                   6202.194399         nfr_precip_m3\n",
      "0      1.293943e+06\n",
      "7672   6.058938e+03\n",
      "7673   2.513278e+05\n",
      "7674   3.535972e+05\n",
      "7675   2.692924e+06\n"
     ]
    }
   ],
   "source": [
    "X_train = X.loc[(X['date'] > '2000-01-01') & (X['date'] <= \"2021-01-01\"), X.columns != 'date']\n",
    "y_train = y.loc[(y['Date'] > '2000-01-01') & (y['Date'] <= \"2021-01-01\"), y.columns != 'Date' ]\n",
    "X_val = X.loc[~((X['date'] > '2000-01-01') & (X['date'] <= \"2021-01-01\")), X.columns != 'date' ]\n",
    "y_val = y.loc[~((y['Date'] > '2000-01-01') & (y['Date'] <= \"2021-01-01\")), y.columns != 'Date' ]\n",
    "# Commented lines below are to look at the split data\n",
    "print('--- TRAINING ---')\n",
    "print(X_train.head(), y_train.head())\n",
    "print('--- VALIDATION ---')\n",
    "print(X_val.head(), y_val.head())\n"
   ]
  },
  {
   "cell_type": "code",
   "execution_count": 40,
   "metadata": {},
   "outputs": [],
   "source": [
    "### MODIFY HYPERPARAMETERS WITHIN THIS CELL\n",
    "fd = {\n",
    "    \"tree_number\": 15,    # number of trees to \"average\" together to create a random forest\n",
    "    \"tree_depth\": 5,      # maximum depth allowed for each tree\n",
    "    \"node_split\": 20,     # minimum number of training samples needed to split a node\n",
    "    \"leaf_samples\": 1,    # minimum number of training samples required to make a leaf node\n",
    "    \"criterion\": 'squared_error',  # information gain metric, 'gini' or 'entropy'\n",
    "    \"bootstrap\": False,   # whether to perform \"bagging=bootstrap aggregating\" or not\n",
    "    \"max_samples\": None,  # number of samples to grab when training each tree IF bootstrap=True, otherwise None\n",
    "    \"random_state\": 13    # set random state for reproducibility\n",
    "}\n",
    "\n",
    "### Default values are retained below for reference\n",
    "# fd = {\n",
    "#     \"tree_number\": 15,    # number of trees to \"average\" together to create a random forest\n",
    "#     \"tree_depth\": 5,      # maximum depth allowed for each tree\n",
    "#     \"node_split\": 20,     # minimum number of training samples needed to split a node\n",
    "#     \"leaf_samples\": 1,    # minimum number of training samples required to make a leaf node\n",
    "#     \"criterion\": 'gini',  # information gain metric, 'gini' or 'entropy'\n",
    "#     \"bootstrap\": False,   # whether to perform \"bagging=bootstrap aggregating\" or not\n",
    "#     \"max_samples\": None,  # number of samples to grab when training each tree IF bootstrap=True, otherwise None\n",
    "#     \"random_state\": 13    # set random state for reproducibility\n",
    "# }"
   ]
  },
  {
   "cell_type": "code",
   "execution_count": 41,
   "metadata": {},
   "outputs": [],
   "source": [
    "forest = RandomForestRegressor(\n",
    "                           n_estimators = fd[\"tree_number\"],\n",
    "                           random_state = fd[\"random_state\"],\n",
    "                           min_samples_split = fd[\"node_split\"],\n",
    "                           min_samples_leaf = fd[\"leaf_samples\"],\n",
    "                           criterion = fd[\"criterion\"],\n",
    "                           max_depth = fd[\"tree_depth\"],\n",
    "                           bootstrap = fd[\"bootstrap\"],\n",
    "                           max_samples = fd[\"max_samples\"])"
   ]
  },
  {
   "cell_type": "code",
   "execution_count": 45,
   "metadata": {},
   "outputs": [
    {
     "name": "stderr",
     "output_type": "stream",
     "text": [
      "/Users/kathum/anaconda3/envs/wamenv/lib/python3.9/site-packages/sklearn/base.py:1474: DataConversionWarning: A column-vector y was passed when a 1d array was expected. Please change the shape of y to (n_samples,), for example using ravel().\n",
      "  return fit_method(estimator, *args, **kwargs)\n",
      "/Users/kathum/anaconda3/envs/wamenv/lib/python3.9/site-packages/sklearn/base.py:486: UserWarning: X has feature names, but RandomForestRegressor was fitted without feature names\n",
      "  warnings.warn(\n"
     ]
    }
   ],
   "source": [
    "forest.fit(X_train.values, y_train.values) # Runs the forest classifier\n",
    "y_pred = forest.predict(X_train.values)\n",
    "y_pred_val = forest.predict(X_val)"
   ]
  },
  {
   "cell_type": "code",
   "execution_count": 52,
   "metadata": {},
   "outputs": [
    {
     "data": {
      "text/plain": [
       "(1003,)"
      ]
     },
     "execution_count": 52,
     "metadata": {},
     "output_type": "execute_result"
    }
   ],
   "source": [
    "np.shape(y_pred_val)"
   ]
  },
  {
   "cell_type": "code",
   "execution_count": 55,
   "metadata": {},
   "outputs": [
    {
     "data": {
      "text/plain": [
       "(1003,)"
      ]
     },
     "execution_count": 55,
     "metadata": {},
     "output_type": "execute_result"
    }
   ],
   "source": [
    "np.shape(y_val.values.squeeze())"
   ]
  },
  {
   "cell_type": "code",
   "execution_count": 67,
   "metadata": {},
   "outputs": [
    {
     "data": {
      "text/plain": [
       "<matplotlib.legend.Legend at 0x304b29730>"
      ]
     },
     "execution_count": 67,
     "metadata": {},
     "output_type": "execute_result"
    },
    {
     "data": {
      "image/png": "[encoded data removed]",
      "text/plain": [
       "<Figure size 640x480 with 1 Axes>"
      ]
     },
     "metadata": {},
     "output_type": "display_data"
    }
   ],
   "source": [
    "plt.plot(y_pred_val, label = 'prediction')\n",
    "plt.plot(y_val.values.squeeze(), alpha = 0.5, label = 'actual')\n",
    "plt.legend()"
   ]
  },
  {
   "cell_type": "code",
   "execution_count": null,
   "metadata": {},
   "outputs": [],
   "source": []
  }
 ],
 "metadata": {
  "kernelspec": {
   "display_name": "wamenv",
   "language": "python",
   "name": "python3"
  },
  "language_info": {
   "codemirror_mode": {
    "name": "ipython",
    "version": 3
   },
   "file_extension": ".py",
   "mimetype": "text/x-python",
   "name": "python",
   "nbconvert_exporter": "python",
   "pygments_lexer": "ipython3",
   "version": "3.9.16"
  }
 },
 "nbformat": 4,
 "nbformat_minor": 2
}
