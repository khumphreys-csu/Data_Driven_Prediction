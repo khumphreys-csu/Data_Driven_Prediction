{
 "cells": [
  {
   "cell_type": "code",
   "execution_count": 2,
   "metadata": {},
   "outputs": [],
   "source": [
    "import numpy as np\n",
    "import matplotlib.pyplot as plt\n",
    "import xarray as xr\n",
    "import glob\n",
    "import pandas as pd\n",
    "\n",
    "mask_directory = '/Users/kathum/Research/COPEX/sink_region_files/masks'\n",
    "WAM_files = '/Volumes/LaCie_10TB_Keys_KH/era5/output/backtrack/co_altclimate_nfr_2000_2023/'\n",
    "sink_region_name = 'nfr'"
   ]
  },
  {
   "cell_type": "code",
   "execution_count": 3,
   "metadata": {},
   "outputs": [],
   "source": [
    "def make_mask(region):\n",
    "    region_csvpath = '/Users/kathum/Research/COPEX/sink_region_files/source_region_information.csv'\n",
    "    region_info = pd.read_csv(region_csvpath)\n",
    "    region_filepath = region_info.loc[region_info['region_name']== region, 'mask_filepath'].values\n",
    "    \n",
    "    #read in the mask associated with this region\n",
    "    if region.capitalize() == 'Colorado':\n",
    "        mask = xr.open_dataarray(region_filepath[0])\n",
    "        #remove the sink region from this mask\n",
    "        remove_mask = xr.open_dataarray(region_info.loc[region_info['other_acronym']== sink_region_name, 'mask_filepath'].item())\n",
    "        mask = mask - remove_mask\n",
    "        mask = mask.where(mask>0, other = 0)\n",
    "        remove_mask.close()\n",
    "    elif region.lower() == 'western us':\n",
    "        #remove colorado and the sink region from this mask\n",
    "        mask = xr.open_dataarray(region_filepath[0])\n",
    "        for remove_region in [region_info.loc[region_info['other_acronym']== sink_region_name, 'region_name'].item(), 'Colorado']:\n",
    "            remove_mask = xr.open_dataarray(region_info.loc[region_info['region_name']== remove_region, 'mask_filepath'].item())\n",
    "            mask = mask - remove_mask\n",
    "        mask = mask.where(mask == 1, other = 0)\n",
    "        remove_mask.close()\n",
    "    elif region== 'Other Water':\n",
    "        mask = 1 - xr.open_dataarray('/Users/kathum/Research/COPEX/sink_region_files/masks/land_source_region.nc') \n",
    "        mask = mask.squeeze()\n",
    "        water_mask_paths = region_info.loc[(region_info['surface_type'].notnull()), ['mask_filepath']].values.squeeze()\n",
    "        for path in water_mask_paths:\n",
    "            remove_mask =  xr.open_dataarray(path)\n",
    "            mask = mask - remove_mask\n",
    "        remove_mask.close()\n",
    "        mask = mask.where(mask>0, other = 0)\n",
    "    elif region == 'Other Land':\n",
    "        mask = xr.open_dataarray('/Users/kathum/Research/COPEX/sink_region_files/masks/land_source_region.nc')\n",
    "        mask = mask.squeeze()\n",
    "        land_mask_paths = region_info.loc[(region_info['surface_type'].notnull()), ['mask_filepath']].values.squeeze()\n",
    "        for path in land_mask_paths:\n",
    "            remove_mask =  xr.open_dataarray(path)\n",
    "            mask = mask - remove_mask\n",
    "        remove_mask.close()\n",
    "        mask = mask.where(mask>0, other = 0)    \n",
    "    else:\n",
    "        mask = xr.open_dataarray(region_filepath[0])\n",
    "    \n",
    "    return mask"
   ]
  },
  {
   "cell_type": "markdown",
   "metadata": {},
   "source": [
    "## Create CSV"
   ]
  },
  {
   "cell_type": "code",
   "execution_count": 1,
   "metadata": {},
   "outputs": [
    {
     "ename": "NameError",
     "evalue": "name 'pd' is not defined",
     "output_type": "error",
     "traceback": [
      "\u001b[0;31m---------------------------------------------------------------------------\u001b[0m",
      "\u001b[0;31mNameError\u001b[0m                                 Traceback (most recent call last)",
      "Cell \u001b[0;32mIn[1], line 2\u001b[0m\n\u001b[1;32m      1\u001b[0m region_csvpath \u001b[38;5;241m=\u001b[39m \u001b[38;5;124m'\u001b[39m\u001b[38;5;124m/Users/kathum/Research/COPEX/sink_region_files/source_region_information.csv\u001b[39m\u001b[38;5;124m'\u001b[39m\n\u001b[0;32m----> 2\u001b[0m region_info \u001b[38;5;241m=\u001b[39m \u001b[43mpd\u001b[49m\u001b[38;5;241m.\u001b[39mread_csv(region_csvpath)\n\u001b[1;32m      3\u001b[0m files \u001b[38;5;241m=\u001b[39m \u001b[38;5;28msorted\u001b[39m(glob\u001b[38;5;241m.\u001b[39mglob(WAM_files\u001b[38;5;241m+\u001b[39m\u001b[38;5;124m'\u001b[39m\u001b[38;5;124m*.nc\u001b[39m\u001b[38;5;124m'\u001b[39m))[:\u001b[38;5;241m-\u001b[39m\u001b[38;5;241m80\u001b[39m][:\u001b[38;5;241m11\u001b[39m] \u001b[38;5;66;03m#NC files to be used and removing wam output from after Sept 30th\u001b[39;00m\n\u001b[1;32m      4\u001b[0m regions \u001b[38;5;241m=\u001b[39m [\u001b[38;5;124m'\u001b[39m\u001b[38;5;124mOther Water\u001b[39m\u001b[38;5;124m'\u001b[39m,\u001b[38;5;124m'\u001b[39m\u001b[38;5;124mPacific Ocean\u001b[39m\u001b[38;5;124m'\u001b[39m,\u001b[38;5;124m'\u001b[39m\u001b[38;5;124mGulf of California\u001b[39m\u001b[38;5;124m'\u001b[39m, \u001b[38;5;124m'\u001b[39m\u001b[38;5;124mAtlantic Ocean\u001b[39m\u001b[38;5;124m'\u001b[39m,\u001b[38;5;124m'\u001b[39m\u001b[38;5;124mGulf of Mexico\u001b[39m\u001b[38;5;124m'\u001b[39m, \u001b[38;5;124m'\u001b[39m\u001b[38;5;124mOther Land\u001b[39m\u001b[38;5;124m'\u001b[39m, \u001b[38;5;124m'\u001b[39m\u001b[38;5;124mWestern US\u001b[39m\u001b[38;5;124m'\u001b[39m, \u001b[38;5;124m'\u001b[39m\u001b[38;5;124mSouthern US\u001b[39m\u001b[38;5;124m'\u001b[39m,\u001b[38;5;124m'\u001b[39m\u001b[38;5;124mMidwestern US\u001b[39m\u001b[38;5;124m'\u001b[39m,\u001b[38;5;124m'\u001b[39m\u001b[38;5;124mColorado\u001b[39m\u001b[38;5;124m'\u001b[39m,\n\u001b[1;32m      5\u001b[0m            \u001b[38;5;124m'\u001b[39m\u001b[38;5;124mEastern Plains\u001b[39m\u001b[38;5;124m'\u001b[39m,\u001b[38;5;124m'\u001b[39m\u001b[38;5;124mFront Range\u001b[39m\u001b[38;5;124m'\u001b[39m,\u001b[38;5;124m'\u001b[39m\u001b[38;5;124mPikes Peak\u001b[39m\u001b[38;5;124m'\u001b[39m,\u001b[38;5;124m'\u001b[39m\u001b[38;5;124mArkansas Basin\u001b[39m\u001b[38;5;124m'\u001b[39m,\u001b[38;5;124m'\u001b[39m\u001b[38;5;124mHigh Mountain Valley\u001b[39m\u001b[38;5;124m'\u001b[39m]\n",
      "\u001b[0;31mNameError\u001b[0m: name 'pd' is not defined"
     ]
    }
   ],
   "source": [
    "region_csvpath = '/Users/kathum/Research/COPEX/sink_region_files/source_region_information.csv'\n",
    "region_info = pd.read_csv(region_csvpath)\n",
    "files = sorted(glob.glob(WAM_files+'*.nc'))[:-80][:11] #NC files to be used and removing wam output from after Sept 30th\n",
    "regions = ['Other Water','Pacific Ocean','Gulf of California', 'Atlantic Ocean','Gulf of Mexico', 'Other Land', 'Western US', 'Southern US','Midwestern US','Colorado',\n",
    "           'Eastern Plains','Front Range','Pikes Peak','Arkansas Basin','High Mountain Valley']\n",
    "\n",
    "data_dict = {}\n",
    "for i, file in enumerate(files):\n",
    "    day_data = xr.open_dataset(file)['e_track']\n",
    "    data_dict[i] = {'date':pd.date_range(file[-19:-9], periods=1)[0]}\n",
    "    for region in regions:\n",
    "        region_mask = make_mask(region)\n",
    "        day_region_e_track = (day_data * region_mask).sum(dim=['latitude','longitude']).values\n",
    "        data_dict[i][region+'_t0_e_track'] = day_region_e_track\n",
    "    day_data.close()\n",
    "        \n",
    "data_df = pd.DataFrame(data_dict).transpose()\n",
    "#show the current data in pandas dataframe\n",
    "data_df.head()\n"
   ]
  },
  {
   "cell_type": "code",
   "execution_count": null,
   "metadata": {},
   "outputs": [],
   "source": []
  }
 ],
 "metadata": {
  "kernelspec": {
   "display_name": "wamenv",
   "language": "python",
   "name": "python3"
  },
  "language_info": {
   "codemirror_mode": {
    "name": "ipython",
    "version": 3
   },
   "file_extension": ".py",
   "mimetype": "text/x-python",
   "name": "python",
   "nbconvert_exporter": "python",
   "pygments_lexer": "ipython3",
   "version": "3.9.16"
  }
 },
 "nbformat": 4,
 "nbformat_minor": 2
}
